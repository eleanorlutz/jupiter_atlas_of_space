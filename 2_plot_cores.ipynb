{
 "cells": [
  {
   "cell_type": "code",
   "execution_count": 1,
   "metadata": {},
   "outputs": [],
   "source": [
    "import pandas as pd\n",
    "import matplotlib\n",
    "import matplotlib.backends.backend_pdf as pdf\n",
    "import matplotlib.pyplot as plt\n",
    "import matplotlib.patches as pch"
   ]
  },
  {
   "cell_type": "code",
   "execution_count": 2,
   "metadata": {},
   "outputs": [
    {
     "name": "stdout",
     "output_type": "stream",
     "text": [
      "pandas                          0.23.4\n",
      "matplotlib.backends.backend_pdf 3.0.3\n",
      "matplotlib                      3.0.3\n",
      "watermark                       1.8.1\n",
      "ELEANOR LUTZ 2019-07-14 \n",
      "\n",
      "CPython 3.7.1\n",
      "IPython 7.2.0\n",
      "\n",
      "compiler   : MSC v.1900 64 bit (AMD64)\n",
      "system     : Windows\n",
      "release    : 10\n",
      "machine    : AMD64\n",
      "processor  : Intel64 Family 6 Model 63 Stepping 2, GenuineIntel\n",
      "CPU cores  : 12\n",
      "interpreter: 64bit\n"
     ]
    }
   ],
   "source": [
    "# Watermark is not required for this code, but is included for information. \n",
    "import watermark\n",
    "%load_ext watermark\n",
    "%watermark -a \"ELEANOR LUTZ\" -d -v -iv -m"
   ]
  },
  {
   "cell_type": "code",
   "execution_count": 3,
   "metadata": {},
   "outputs": [
    {
     "data": {
      "image/png": "[encoded data removed]",
      "text/plain": [
       "<Figure size 288x288 with 1 Axes>"
      ]
     },
     "metadata": {},
     "output_type": "display_data"
    }
   ],
   "source": [
    "df = pd.read_csv('./data/core_sources.csv')\n",
    "df.sort_values(by='depth_order', inplace=True)\n",
    "\n",
    "savename = './figures/jupiter_core.pdf'\n",
    "total_radius = df['km_from_previous'].astype(float).sum()\n",
    "\n",
    "fig = plt.figure(figsize=(4, 4))\n",
    "ax = fig.add_subplot(111, aspect='equal')\n",
    "width = 0\n",
    "for index, row in df.iterrows():\n",
    "    curr_width = float(row['km_from_previous'])\n",
    "    width += curr_width\n",
    "    ax.add_patch(pch.Wedge((0,0), r=width, theta1=-90, theta2=90,\n",
    "                 zorder=len(df)-row['depth_order'], \n",
    "                 facecolor=row['color'], edgecolor=None, lw=0))\n",
    "\n",
    "ax.set_xlim(-total_radius, total_radius)\n",
    "ax.set_ylim(-total_radius, total_radius)\n",
    "ax.set_xticks([])\n",
    "ax.set_yticks([])\n",
    "\n",
    "ax.spines['bottom'].set_visible(False)\n",
    "ax.spines['left'].set_visible(False)\n",
    "ax.spines['top'].set_visible(False)\n",
    "ax.spines['right'].set_visible(False)\n",
    "\n",
    "# Remove all padding and margins\n",
    "plt.subplots_adjust(top=1, bottom=0, right=1, left=0, hspace=0, wspace=0)\n",
    "plt.margins(0,0)\n",
    "plt.gca().xaxis.set_major_locator(matplotlib.pyplot.NullLocator())\n",
    "plt.gca().yaxis.set_major_locator(matplotlib.pyplot.NullLocator())\n",
    "\n",
    "pp = pdf.PdfPages(savename, keep_empty=False)\n",
    "pp.savefig(fig)\n",
    "pp.close()\n",
    "plt.show()\n",
    "plt.clf()\n",
    "plt.close('all')"
   ]
  },
  {
   "cell_type": "code",
   "execution_count": null,
   "metadata": {},
   "outputs": [],
   "source": []
  }
 ],
 "metadata": {
  "kernelspec": {
   "display_name": "Python 3",
   "language": "python",
   "name": "python3"
  },
  "language_info": {
   "codemirror_mode": {
    "name": "ipython",
    "version": 3
   },
   "file_extension": ".py",
   "mimetype": "text/x-python",
   "name": "python",
   "nbconvert_exporter": "python",
   "pygments_lexer": "ipython3",
   "version": "3.7.1"
  }
 },
 "nbformat": 4,
 "nbformat_minor": 2
}
